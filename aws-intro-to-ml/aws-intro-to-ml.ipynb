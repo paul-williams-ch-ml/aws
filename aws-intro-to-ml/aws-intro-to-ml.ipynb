{
 "cells": [
  {
   "cell_type": "markdown",
   "id": "37658aab-d933-4373-9851-c21b8a34c4a1",
   "metadata": {},
   "source": [
    "# Bedrock"
   ]
  },
  {
   "cell_type": "code",
   "execution_count": 1,
   "id": "845b060e-4ab0-44fe-a1f4-982b33d83373",
   "metadata": {},
   "outputs": [],
   "source": [
    "import boto3\n",
    "import json"
   ]
  },
  {
   "cell_type": "markdown",
   "id": "59efdb9a-263c-481b-b583-1a08ee63a256",
   "metadata": {},
   "source": [
    "### Static Values"
   ]
  },
  {
   "cell_type": "code",
   "execution_count": 2,
   "id": "fd8632ba-0796-41fb-a952-7aad676a7449",
   "metadata": {},
   "outputs": [],
   "source": [
    "AWS_PROFILE_NAME     = \"training\"\n",
    "SERVICE_NAME         = \"bedrock\"\n",
    "RUNTIME_SERVICE_NAME = \"bedrock-runtime\""
   ]
  },
  {
   "cell_type": "markdown",
   "id": "ed77e4eb-ff35-4541-be8d-aa639125dce3",
   "metadata": {},
   "source": [
    "### Establish a Bedrock Session"
   ]
  },
  {
   "cell_type": "code",
   "execution_count": 3,
   "id": "d1bf4b13-34bc-4afd-9974-e4ee71dd7992",
   "metadata": {},
   "outputs": [],
   "source": [
    "bedrock = boto3.Session(profile_name = AWS_PROFILE_NAME).client(service_name = SERVICE_NAME)"
   ]
  },
  {
   "cell_type": "markdown",
   "id": "c0381b4b-3126-4ff5-a607-ea93fa70554a",
   "metadata": {},
   "source": [
    "### Smoke Test: *List Available Foundation Models*"
   ]
  },
  {
   "cell_type": "code",
   "execution_count": 4,
   "id": "2ec40bcb-f6f6-45ed-8771-38cb7aed1359",
   "metadata": {},
   "outputs": [
    {
     "data": {
      "text/plain": [
       "{'Claude',\n",
       " 'Claude Instant',\n",
       " 'Embed English',\n",
       " 'Embed Multilingual',\n",
       " 'Titan Embeddings G1 - Text',\n",
       " 'Titan Text G1 - Express'}"
      ]
     },
     "execution_count": 4,
     "metadata": {},
     "output_type": "execute_result"
    }
   ],
   "source": [
    "# define our output set\n",
    "available_models = set()\n",
    "\n",
    "# request a list of available foundation models\n",
    "model_list = bedrock.list_foundation_models()[\"modelSummaries\"]\n",
    "\n",
    "# populate the set of distict model names\n",
    "{available_models.add(model[\"modelName\"]) for model in model_list}\n",
    "\n",
    "# show the model names\n",
    "available_models"
   ]
  },
  {
   "cell_type": "markdown",
   "id": "3e748abb-b5a5-4735-ae78-fd5d2bb781bf",
   "metadata": {},
   "source": [
    "### Prompt Definition"
   ]
  },
  {
   "cell_type": "code",
   "execution_count": 5,
   "id": "81216cb2-c918-406c-9eb0-3beed8f41f60",
   "metadata": {},
   "outputs": [],
   "source": [
    "bedrock_prompt  = \"\"\"Write a poem about a Jellyfish and a large piece of cheese. In the style of Shakespear.\"\"\""
   ]
  },
  {
   "cell_type": "markdown",
   "id": "2f690a3e-849b-483e-a0d8-812ed6b0fc9d",
   "metadata": {},
   "source": [
    "### Define Text Generation Parameters"
   ]
  },
  {
   "cell_type": "code",
   "execution_count": 6,
   "id": "561ff0c8-b164-4c7d-8428-e06efe6b0892",
   "metadata": {},
   "outputs": [],
   "source": [
    "text_gen_config = {\"maxTokenCount\" : 512,\n",
    "                   \"stopSequences\" : [], \n",
    "                   \"temperature\"   : 0.5,\n",
    "                   \"topP\"          : 0.9}"
   ]
  },
  {
   "cell_type": "markdown",
   "id": "0c71909f-96f3-43b0-b19f-457c6fce6dab",
   "metadata": {},
   "source": [
    "### Define Model Parameters"
   ]
  },
  {
   "cell_type": "code",
   "execution_count": 7,
   "id": "6417d2b1-f7b9-4648-a66b-137af8c4ddbd",
   "metadata": {},
   "outputs": [],
   "source": [
    "model_id        = \"amazon.titan-text-express-v1\"\n",
    "accept          = \"application/json\" \n",
    "content_type    = \"application/json\"\n",
    "body            = json.dumps({\"inputText\"            : bedrock_prompt,\n",
    "                              \"textGenerationConfig\" : text_gen_config})"
   ]
  },
  {
   "cell_type": "markdown",
   "id": "e65ab11b-a963-4305-8caa-bf43926ffee6",
   "metadata": {},
   "source": [
    "### Establish A Bedrock Runtime Client"
   ]
  },
  {
   "cell_type": "code",
   "execution_count": 8,
   "id": "c701e683-5075-4814-a07c-7c994360ab96",
   "metadata": {},
   "outputs": [],
   "source": [
    "bedrock_runtime = boto3.Session(profile_name = AWS_PROFILE_NAME).client(service_name = RUNTIME_SERVICE_NAME)"
   ]
  },
  {
   "cell_type": "markdown",
   "id": "f0c3e2a4-88ac-495c-b02e-d2840e48bfd3",
   "metadata": {},
   "source": [
    "### Invoke The Model "
   ]
  },
  {
   "cell_type": "code",
   "execution_count": 9,
   "id": "84cd663c-1fc4-45e1-80d1-cde4bb49fbc4",
   "metadata": {},
   "outputs": [],
   "source": [
    "bedrock_reply   = bedrock_runtime.invoke_model(body        = body, \n",
    "                                               modelId     = model_id, \n",
    "                                               accept      = accept, \n",
    "                                               contentType = content_type)"
   ]
  },
  {
   "cell_type": "markdown",
   "id": "f7c28f3c-1b04-4a02-b13d-6c195674ad32",
   "metadata": {},
   "source": [
    "### Present the Masterpiece"
   ]
  },
  {
   "cell_type": "code",
   "execution_count": 10,
   "id": "918e6cfb-d750-46e3-900d-93daea3963dd",
   "metadata": {},
   "outputs": [
    {
     "name": "stdout",
     "output_type": "stream",
     "text": [
      "\n",
      "Oh, gentle jellyfish, floating through the deep,\n",
      "With eyes that see, and tentacles that catch,\n",
      "On a large piece of cheese, that lies in the sea,\n",
      "You swim with grace, and ease, and so do I.\n",
      "\n",
      "For you, the ocean is your home,\n",
      "And the cheese is your prize,\n",
      "And I, a human, am just a guest,\n",
      "In this world, so vast, and so grand.\n",
      "\n",
      "Yet still, we share this space,\n",
      "And we must learn to live,\n",
      "With each other, and with all of life,\n",
      "And to respect, and to love, and to give.\n",
      "\n",
      "So let us swim together, jellyfish and me,\n",
      "And enjoy this moment, so sweet,\n",
      "For in the end, it's not just what we have,\n",
      "But who we have, that makes us happy.\n"
     ]
    }
   ],
   "source": [
    "bedrock_reply_body = json.loads(bedrock_reply[\"body\"].read())\n",
    "bedrock_reply_text = bedrock_reply_body[\"results\"][0][\"outputText\"]\n",
    "print(bedrock_reply_text)"
   ]
  }
 ],
 "metadata": {
  "kernelspec": {
   "display_name": "Python 3 (ipykernel)",
   "language": "python",
   "name": "python3"
  },
  "language_info": {
   "codemirror_mode": {
    "name": "ipython",
    "version": 3
   },
   "file_extension": ".py",
   "mimetype": "text/x-python",
   "name": "python",
   "nbconvert_exporter": "python",
   "pygments_lexer": "ipython3",
   "version": "3.11.8"
  }
 },
 "nbformat": 4,
 "nbformat_minor": 5
}
