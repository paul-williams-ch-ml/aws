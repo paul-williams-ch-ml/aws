{
 "cells": [
  {
   "cell_type": "markdown",
   "id": "a6101132-1159-447f-8257-5399cd6e5e23",
   "metadata": {},
   "source": [
    "# Get All Accounts"
   ]
  },
  {
   "cell_type": "code",
   "execution_count": null,
   "id": "b272f97f-616e-45cf-bfd8-b20cb13c44ab",
   "metadata": {
    "tags": []
   },
   "outputs": [],
   "source": []
  },
  {
   "cell_type": "code",
   "execution_count": null,
   "id": "a0c99270-43d0-4b87-b933-75542978ce04",
   "metadata": {},
   "outputs": [],
   "source": []
  },
  {
   "cell_type": "code",
   "execution_count": null,
   "id": "15755226-2e71-4b62-87c6-c7d45f208988",
   "metadata": {
    "tags": []
   },
   "outputs": [],
   "source": []
  },
  {
   "cell_type": "code",
   "execution_count": null,
   "id": "c195ea66-f1ac-46ab-a411-aed2ddae5e92",
   "metadata": {},
   "outputs": [],
   "source": []
  },
  {
   "cell_type": "code",
   "execution_count": null,
   "id": "d7b82802-3018-49a0-b219-7c7375e0c375",
   "metadata": {},
   "outputs": [],
   "source": []
  },
  {
   "cell_type": "code",
   "execution_count": 1,
   "id": "3cf60eef-662e-4d22-99d5-55139ef1b7e3",
   "metadata": {
    "tags": []
   },
   "outputs": [],
   "source": [
    "import os\n",
    "import boto3\n",
    "import json\n",
    "import pandas as pd\n",
    "import ipywidgets\n",
    "import jupyter\n",
    "from time import time\n",
    "from datetime import datetime, timedelta\n",
    "from tqdm.notebook import tqdm"
   ]
  },
  {
   "cell_type": "code",
   "execution_count": null,
   "id": "287938bf-dd4c-4ab6-95e6-344951a8ec2c",
   "metadata": {},
   "outputs": [],
   "source": []
  },
  {
   "cell_type": "code",
   "execution_count": 2,
   "id": "9a32af2a-373b-4af3-a2a9-529f12c6f3d8",
   "metadata": {
    "tags": []
   },
   "outputs": [],
   "source": [
    "awsProfiles = boto3.Session(profile_name = 'training').available_profiles"
   ]
  },
  {
   "cell_type": "code",
   "execution_count": null,
   "id": "3a12c925-96ee-499b-9e2f-a8763c89f4ce",
   "metadata": {},
   "outputs": [],
   "source": []
  },
  {
   "cell_type": "code",
   "execution_count": 3,
   "id": "cca8ccbf-04f8-489e-9d84-e52570f85a2f",
   "metadata": {
    "tags": []
   },
   "outputs": [],
   "source": [
    "class AWSQueryStartDateTooOld(Exception): pass\n",
    "\n",
    "def validateStartDate(StartTime:datetime = 0):\n",
    "    # Compare the StartDate value against the validation rules. \n",
    "    # Raise an error if it is not valid\n",
    "    if StartTime < datetime.now() - timedelta(days = 14): raise AWSQueryStartDateTooOld('When using the HOURLY Granularity. The StartTime can be no older than 14 days.')"
   ]
  },
  {
   "cell_type": "code",
   "execution_count": null,
   "id": "962d2a28-0e44-452f-a770-922587ab1ddd",
   "metadata": {},
   "outputs": [],
   "source": []
  },
  {
   "cell_type": "code",
   "execution_count": 4,
   "id": "1c39c84d-0e4b-45c5-b374-9d91657d66d5",
   "metadata": {
    "tags": []
   },
   "outputs": [],
   "source": [
    "def getServiceCosts(client,\n",
    "                    StartTime:datetime = datetime.now() - timedelta(days = 1), \n",
    "                    EndTime:datetime   = datetime.now(),\n",
    "                    CostMetric:str     = 'BlendedCost',\n",
    "                    Granularity:str    = 'DAILY'):       # MONTHLY, DAILY or HOURLY\n",
    "    \n",
    "    # Validate StartTime\n",
    "    validateStartDate(StartTime = StartTime)\n",
    "    \n",
    "    # Construct dataframes for charge period records and all combined costs\n",
    "    cost_df = pd.DataFrame()\n",
    "    rec_df  = pd.DataFrame()\n",
    "    \n",
    "    # The format of the timestamps is different when the Granularity is set to HOURLY\n",
    "    DATE_FORMATTER = '%Y-%m-%dT%H:%M:%SZ' if Granularity == 'HOURLY' else '%Y-%m-%d'\n",
    "    \n",
    "    # Retrieve the data from the AWS API\n",
    "    cost_data = client.get_cost_and_usage(TimePeriod  = {'Start' : StartTime.strftime(DATE_FORMATTER), \n",
    "                                                         'End'   : EndTime.strftime(DATE_FORMATTER)},\n",
    "                                          Granularity =  Granularity,\n",
    "                                          Metrics     = [CostMetric],\n",
    "                                          GroupBy     = [{'Type' : 'DIMENSION', \n",
    "                                                          'Key'  : 'SERVICE'}],\n",
    "                                          )['ResultsByTime']\n",
    "    \n",
    "    # Populate the record dataframe with the values of a single charge period\n",
    "    for period_data in cost_data:\n",
    "        startDate = pd.to_datetime(period_data['TimePeriod']['Start'])\n",
    "        endDate   = pd.to_datetime(period_data['TimePeriod']['End'  ])\n",
    "        for service in period_data['Groups']:\n",
    "            rec_df['Service'  ] = service['Keys']\n",
    "            rec_df['StartDate'] = startDate\n",
    "            rec_df['EndDate'  ] = endDate\n",
    "            rec_df['Amount'   ] = service['Metrics']['BlendedCost']['Amount']\n",
    "            rec_df['Unit'     ] = service['Metrics']['BlendedCost']['Unit']\n",
    "            # Append the record dataframe to the combined costs dataframe\n",
    "            cost_df = pd.concat([cost_df, rec_df]).drop_duplicates().reset_index(drop=True)\n",
    "\n",
    "    return cost_df  "
   ]
  },
  {
   "cell_type": "code",
   "execution_count": null,
   "id": "caaa6025-7153-4655-82a1-4bb1be1d0729",
   "metadata": {},
   "outputs": [],
   "source": []
  },
  {
   "cell_type": "code",
   "execution_count": 5,
   "id": "7c4c384f-fe5d-4c06-875c-55beda5e1b06",
   "metadata": {
    "tags": []
   },
   "outputs": [],
   "source": [
    "def validateProfiles(profiles):\n",
    "    \n",
    "    # lists to store the results\n",
    "    validProfiles   = []\n",
    "    invalidProfiles = []\n",
    "\n",
    "    # allow us to visualize the progress\n",
    "    progressBar = tqdm(range(len(profiles)))\n",
    "    \n",
    "    # loop through all profiles configured locally\n",
    "    for profile in profiles:\n",
    "        # create a Cost Explorer clien\n",
    "        ecClient = boto3.Session(profile_name = profile).client('ce')\n",
    "        # if we can get some costs the profile is valid. Otherwise it is invalid\n",
    "        try:\n",
    "            getServiceCosts(ecClient)\n",
    "            validProfiles.append(str(profile))\n",
    "        except:\n",
    "            invalidProfiles.append(str(profile))\n",
    "        \n",
    "        # increment the progress\n",
    "        progressBar.update(1)\n",
    "        \n",
    "    # change the bar colour on completion\n",
    "    progressBar.colour = \"green\"\n",
    "    \n",
    "    # return valid and invalid profiles lists\n",
    "    return {\"valid\": validProfiles, \"invalid\": invalidProfiles}"
   ]
  },
  {
   "cell_type": "code",
   "execution_count": 6,
   "id": "2bff36d8-fd30-40dc-a07c-0cd8390ef0a6",
   "metadata": {
    "tags": []
   },
   "outputs": [
    {
     "data": {
      "application/vnd.jupyter.widget-view+json": {
       "model_id": "cf60a0de1bc64b229a03479de3adfc27",
       "version_major": 2,
       "version_minor": 0
      },
      "text/plain": [
       "  0%|          | 0/6 [00:00<?, ?it/s]"
      ]
     },
     "metadata": {},
     "output_type": "display_data"
    }
   ],
   "source": [
    "validProfiles = validateProfiles(awsProfiles)[\"valid\"]"
   ]
  },
  {
   "cell_type": "code",
   "execution_count": null,
   "id": "bf5c7f94-5da7-4bc1-99c3-772f80acf78e",
   "metadata": {
    "tags": []
   },
   "outputs": [],
   "source": []
  },
  {
   "cell_type": "code",
   "execution_count": 7,
   "id": "66817deb-4b93-4c26-b90a-6b9997697888",
   "metadata": {
    "tags": []
   },
   "outputs": [],
   "source": [
    "#validProfiles"
   ]
  },
  {
   "cell_type": "code",
   "execution_count": null,
   "id": "5cc17343-a1c5-44f1-a2d4-86840289f2c2",
   "metadata": {},
   "outputs": [],
   "source": []
  },
  {
   "cell_type": "code",
   "execution_count": 8,
   "id": "24892a11-a8aa-4234-9778-228a6b60ef53",
   "metadata": {
    "tags": []
   },
   "outputs": [],
   "source": [
    "#ecClient  = boto3.Session(profile_name = 'training').client('ce')\n",
    "#getServiceCosts(ecClient)"
   ]
  },
  {
   "cell_type": "code",
   "execution_count": null,
   "id": "b99b2aeb-f24f-40a2-af5a-2d91aad9aba2",
   "metadata": {},
   "outputs": [],
   "source": []
  },
  {
   "cell_type": "code",
   "execution_count": null,
   "id": "960b3530-2b80-4285-b9ed-158d51a7a998",
   "metadata": {},
   "outputs": [],
   "source": []
  },
  {
   "cell_type": "code",
   "execution_count": null,
   "id": "6c5011c8-0856-49a5-8832-ebb34e5be652",
   "metadata": {},
   "outputs": [],
   "source": []
  },
  {
   "cell_type": "code",
   "execution_count": null,
   "id": "6fb20af6-59ba-4bbf-b765-8687f0cd8dd8",
   "metadata": {
    "tags": []
   },
   "outputs": [],
   "source": []
  },
  {
   "cell_type": "code",
   "execution_count": null,
   "id": "6bcd674f-95cf-43a6-b37f-fcec589b9099",
   "metadata": {
    "tags": []
   },
   "outputs": [],
   "source": []
  },
  {
   "cell_type": "code",
   "execution_count": null,
   "id": "9316f20d-a815-47b3-ac4b-e4d05bc86116",
   "metadata": {},
   "outputs": [],
   "source": []
  },
  {
   "cell_type": "code",
   "execution_count": null,
   "id": "a41a7a66-f521-44ab-8d2a-79f736f2473c",
   "metadata": {},
   "outputs": [],
   "source": []
  },
  {
   "cell_type": "code",
   "execution_count": null,
   "id": "c88c9a01-d654-47f9-8353-a92e169d4282",
   "metadata": {},
   "outputs": [],
   "source": []
  },
  {
   "cell_type": "code",
   "execution_count": null,
   "id": "a4d1e7ca-4952-446e-87f0-f9f7a8fd047d",
   "metadata": {
    "tags": []
   },
   "outputs": [],
   "source": []
  },
  {
   "cell_type": "code",
   "execution_count": null,
   "id": "27d7047f-373f-4447-8623-739f1439dbd8",
   "metadata": {
    "tags": []
   },
   "outputs": [],
   "source": []
  },
  {
   "cell_type": "code",
   "execution_count": null,
   "id": "cf16ad4c-a3af-4971-a919-d4b9cff126ba",
   "metadata": {},
   "outputs": [],
   "source": []
  },
  {
   "cell_type": "code",
   "execution_count": null,
   "id": "d7b0286e-2d1f-4f44-b9ea-7639a3561960",
   "metadata": {
    "tags": []
   },
   "outputs": [],
   "source": []
  },
  {
   "cell_type": "code",
   "execution_count": null,
   "id": "fda21b45-6928-4ce3-9623-da7f4828cb2c",
   "metadata": {
    "tags": []
   },
   "outputs": [],
   "source": []
  },
  {
   "cell_type": "code",
   "execution_count": null,
   "id": "52504eb1-642b-4d2d-a56a-986ebdf8605b",
   "metadata": {},
   "outputs": [],
   "source": []
  },
  {
   "cell_type": "code",
   "execution_count": null,
   "id": "5d5f1c88-50ca-44ac-bfdc-6a1ed67f8b27",
   "metadata": {
    "tags": []
   },
   "outputs": [],
   "source": []
  },
  {
   "cell_type": "code",
   "execution_count": null,
   "id": "3d19d3e5-2510-4371-91c7-aa54681b1109",
   "metadata": {
    "tags": []
   },
   "outputs": [],
   "source": []
  },
  {
   "cell_type": "code",
   "execution_count": null,
   "id": "7aee8be9-a378-4020-b584-7324ad57dade",
   "metadata": {
    "tags": []
   },
   "outputs": [],
   "source": []
  },
  {
   "cell_type": "code",
   "execution_count": null,
   "id": "dcd49992-d959-4214-b8da-7c4b39032a9d",
   "metadata": {
    "tags": []
   },
   "outputs": [],
   "source": []
  },
  {
   "cell_type": "code",
   "execution_count": null,
   "id": "4b3d753f-c4dc-4b59-8b56-9989b9b1c3a5",
   "metadata": {
    "tags": []
   },
   "outputs": [],
   "source": []
  },
  {
   "cell_type": "code",
   "execution_count": null,
   "id": "ec3abcd9-ebc9-445d-b9e7-bba9a3cd04fb",
   "metadata": {
    "tags": []
   },
   "outputs": [],
   "source": []
  },
  {
   "cell_type": "code",
   "execution_count": null,
   "id": "3b035588-1c1d-48bf-a412-114360e4594f",
   "metadata": {
    "tags": []
   },
   "outputs": [],
   "source": []
  },
  {
   "cell_type": "code",
   "execution_count": null,
   "id": "6211bd64-6ea9-4882-8d83-870224559c57",
   "metadata": {
    "tags": []
   },
   "outputs": [],
   "source": []
  },
  {
   "cell_type": "code",
   "execution_count": null,
   "id": "4fadea65-d7dd-4f72-9203-b8f08bc726bc",
   "metadata": {
    "tags": []
   },
   "outputs": [],
   "source": []
  },
  {
   "cell_type": "code",
   "execution_count": null,
   "id": "21882b62-ed3c-420b-9258-1cf427392fa6",
   "metadata": {},
   "outputs": [],
   "source": []
  },
  {
   "cell_type": "code",
   "execution_count": null,
   "id": "5a250f70-72fd-4421-bbaa-28e1d2095926",
   "metadata": {
    "tags": []
   },
   "outputs": [],
   "source": []
  },
  {
   "cell_type": "code",
   "execution_count": null,
   "id": "384d96b0-1440-4e71-82f5-99d44aa7a294",
   "metadata": {},
   "outputs": [],
   "source": []
  },
  {
   "cell_type": "code",
   "execution_count": null,
   "id": "dde8ddf4-117e-4bd9-a9ac-47dbc80e38f4",
   "metadata": {
    "tags": []
   },
   "outputs": [],
   "source": []
  },
  {
   "cell_type": "code",
   "execution_count": null,
   "id": "f6ab6eb5-7dfe-48de-ac59-839b4fdf5235",
   "metadata": {
    "tags": []
   },
   "outputs": [],
   "source": []
  },
  {
   "cell_type": "code",
   "execution_count": null,
   "id": "6e719068-db23-447d-b452-1efc6db04f32",
   "metadata": {},
   "outputs": [],
   "source": []
  },
  {
   "cell_type": "code",
   "execution_count": null,
   "id": "e96fa7fa-f4a7-4964-82e3-0c6cc5a32f69",
   "metadata": {},
   "outputs": [],
   "source": []
  },
  {
   "cell_type": "code",
   "execution_count": null,
   "id": "28633baf-a745-4fc5-bdb8-e1f7c84f3f92",
   "metadata": {
    "tags": []
   },
   "outputs": [],
   "source": []
  },
  {
   "cell_type": "code",
   "execution_count": null,
   "id": "4f1300d6-1d5c-4a73-830e-5c668a3b2c22",
   "metadata": {},
   "outputs": [],
   "source": []
  },
  {
   "cell_type": "code",
   "execution_count": null,
   "id": "0947580d-6ada-4edc-9a62-469fc813f87c",
   "metadata": {},
   "outputs": [],
   "source": []
  },
  {
   "cell_type": "code",
   "execution_count": null,
   "id": "cf1e8ba2-d914-4bc8-bcc3-726791db4b00",
   "metadata": {},
   "outputs": [],
   "source": []
  },
  {
   "cell_type": "code",
   "execution_count": null,
   "id": "aea2f01b-12d7-4306-8a3c-ee9b0157282f",
   "metadata": {},
   "outputs": [],
   "source": []
  },
  {
   "cell_type": "code",
   "execution_count": null,
   "id": "ef085f71-b8cd-42d2-9052-13c41486069e",
   "metadata": {},
   "outputs": [],
   "source": []
  },
  {
   "cell_type": "code",
   "execution_count": null,
   "id": "2b305820-6ac0-4265-9707-4b681649a1fb",
   "metadata": {},
   "outputs": [],
   "source": []
  }
 ],
 "metadata": {
  "kernelspec": {
   "display_name": "Python 3 (ipykernel)",
   "language": "python",
   "name": "python3"
  },
  "language_info": {
   "codemirror_mode": {
    "name": "ipython",
    "version": 3
   },
   "file_extension": ".py",
   "mimetype": "text/x-python",
   "name": "python",
   "nbconvert_exporter": "python",
   "pygments_lexer": "ipython3",
   "version": "3.11.5"
  }
 },
 "nbformat": 4,
 "nbformat_minor": 5
}
