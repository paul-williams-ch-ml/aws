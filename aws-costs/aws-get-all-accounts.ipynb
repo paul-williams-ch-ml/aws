{
 "cells": [
  {
   "cell_type": "markdown",
   "id": "a6101132-1159-447f-8257-5399cd6e5e23",
   "metadata": {},
   "source": [
    "# AWS Get All Accounts"
   ]
  },
  {
   "cell_type": "code",
   "execution_count": null,
   "id": "d7b82802-3018-49a0-b219-7c7375e0c375",
   "metadata": {},
   "outputs": [],
   "source": []
  },
  {
   "cell_type": "code",
   "execution_count": 1,
   "id": "3cf60eef-662e-4d22-99d5-55139ef1b7e3",
   "metadata": {
    "tags": []
   },
   "outputs": [],
   "source": [
    "import os\n",
    "import boto3\n",
    "import json\n",
    "import pandas as pd\n",
    "import ipywidgets\n",
    "import jupyter\n",
    "from time import time\n",
    "from datetime import datetime, timedelta\n",
    "from tqdm.notebook import tqdm"
   ]
  },
  {
   "cell_type": "code",
   "execution_count": null,
   "id": "287938bf-dd4c-4ab6-95e6-344951a8ec2c",
   "metadata": {},
   "outputs": [],
   "source": []
  },
  {
   "cell_type": "code",
   "execution_count": 2,
   "id": "9a32af2a-373b-4af3-a2a9-529f12c6f3d8",
   "metadata": {
    "tags": []
   },
   "outputs": [],
   "source": [
    "awsProfiles = boto3.Session(profile_name = 'training').available_profiles"
   ]
  },
  {
   "cell_type": "code",
   "execution_count": null,
   "id": "3a12c925-96ee-499b-9e2f-a8763c89f4ce",
   "metadata": {},
   "outputs": [],
   "source": []
  },
  {
   "cell_type": "code",
   "execution_count": 3,
   "id": "cca8ccbf-04f8-489e-9d84-e52570f85a2f",
   "metadata": {
    "tags": []
   },
   "outputs": [],
   "source": [
    "class AWSQueryStartDateTooOld(Exception): pass\n",
    "\n",
    "def validateStartDate(StartTime:datetime = 0):\n",
    "    # Compare the StartDate value against the validation rules. \n",
    "    # Raise an error if it is not valid\n",
    "    if StartTime < datetime.now() - timedelta(days = 14): raise AWSQueryStartDateTooOld('When using the HOURLY Granularity. The StartTime can be no older than 14 days.')"
   ]
  },
  {
   "cell_type": "code",
   "execution_count": null,
   "id": "962d2a28-0e44-452f-a770-922587ab1ddd",
   "metadata": {},
   "outputs": [],
   "source": []
  },
  {
   "cell_type": "code",
   "execution_count": 4,
   "id": "1c39c84d-0e4b-45c5-b374-9d91657d66d5",
   "metadata": {
    "tags": []
   },
   "outputs": [],
   "source": [
    "def getServiceCosts(client,\n",
    "                    StartTime:datetime = datetime.now() - timedelta(days = 1), \n",
    "                    EndTime:datetime   = datetime.now(),\n",
    "                    CostMetric:str     = 'BlendedCost',\n",
    "                    Granularity:str    = 'DAILY'):       # MONTHLY, DAILY or HOURLY\n",
    "    \n",
    "    # Validate StartTime\n",
    "    validateStartDate(StartTime = StartTime)\n",
    "    \n",
    "    # Construct dataframes for charge period records and all combined costs\n",
    "    cost_df = pd.DataFrame()\n",
    "    rec_df  = pd.DataFrame()\n",
    "    \n",
    "    # The format of the timestamps is different when the Granularity is set to HOURLY\n",
    "    DATE_FORMATTER = '%Y-%m-%dT%H:%M:%SZ' if Granularity == 'HOURLY' else '%Y-%m-%d'\n",
    "    \n",
    "    # Retrieve the data from the AWS API\n",
    "    cost_data = client.get_cost_and_usage(TimePeriod  = {'Start' : StartTime.strftime(DATE_FORMATTER), \n",
    "                                                         'End'   : EndTime.strftime(DATE_FORMATTER)},\n",
    "                                          Granularity =  Granularity,\n",
    "                                          Metrics     = [CostMetric],\n",
    "                                          GroupBy     = [{'Type' : 'DIMENSION', \n",
    "                                                          'Key'  : 'SERVICE'}],\n",
    "                                          )['ResultsByTime']\n",
    "    \n",
    "    # Populate the record dataframe with the values of a single charge period\n",
    "    for period_data in cost_data:\n",
    "        startDate = pd.to_datetime(period_data['TimePeriod']['Start'])\n",
    "        endDate   = pd.to_datetime(period_data['TimePeriod']['End'  ])\n",
    "        for service in period_data['Groups']:\n",
    "            rec_df['Service'  ] = service['Keys']\n",
    "            rec_df['StartDate'] = startDate\n",
    "            rec_df['EndDate'  ] = endDate\n",
    "            rec_df['Amount'   ] = service['Metrics']['BlendedCost']['Amount']\n",
    "            rec_df['Unit'     ] = service['Metrics']['BlendedCost']['Unit']\n",
    "            # Append the record dataframe to the combined costs dataframe\n",
    "            cost_df = pd.concat([cost_df, rec_df]).drop_duplicates().reset_index(drop=True)\n",
    "\n",
    "    return cost_df  "
   ]
  },
  {
   "cell_type": "code",
   "execution_count": null,
   "id": "caaa6025-7153-4655-82a1-4bb1be1d0729",
   "metadata": {},
   "outputs": [],
   "source": []
  },
  {
   "cell_type": "code",
   "execution_count": 5,
   "id": "7c4c384f-fe5d-4c06-875c-55beda5e1b06",
   "metadata": {
    "tags": []
   },
   "outputs": [],
   "source": [
    "def validateProfiles(profiles):\n",
    "    \n",
    "    # lists to store the results\n",
    "    validProfiles   = []\n",
    "    invalidProfiles = []\n",
    "\n",
    "    # allow us to visualize the progress\n",
    "    progressBar = tqdm(range(len(profiles)))\n",
    "    \n",
    "    # loop through all profiles configured locally\n",
    "    for profile in profiles:\n",
    "        # create a Cost Explorer clien\n",
    "        ecClient = boto3.Session(profile_name = profile).client('ce')\n",
    "        # if we can get some costs the profile is valid. Otherwise it is invalid\n",
    "        try:\n",
    "            getServiceCosts(ecClient)\n",
    "            validProfiles.append(str(profile))\n",
    "        except:\n",
    "            invalidProfiles.append(str(profile))\n",
    "        \n",
    "        # increment the progress\n",
    "        progressBar.update(1)\n",
    "        \n",
    "    # change the bar colour on completion\n",
    "    progressBar.colour = \"green\"\n",
    "    \n",
    "    # return valid and invalid profiles lists\n",
    "    return {\"valid\": validProfiles, \"invalid\": invalidProfiles}"
   ]
  },
  {
   "cell_type": "code",
   "execution_count": 6,
   "id": "2bff36d8-fd30-40dc-a07c-0cd8390ef0a6",
   "metadata": {
    "tags": []
   },
   "outputs": [
    {
     "data": {
      "application/vnd.jupyter.widget-view+json": {
       "model_id": "440857040e164eb19f623e3680645794",
       "version_major": 2,
       "version_minor": 0
      },
      "text/plain": [
       "  0%|          | 0/6 [00:00<?, ?it/s]"
      ]
     },
     "metadata": {},
     "output_type": "display_data"
    }
   ],
   "source": [
    "awsProfiles = validateProfiles(awsProfiles)"
   ]
  },
  {
   "cell_type": "code",
   "execution_count": 7,
   "id": "bf5c7f94-5da7-4bc1-99c3-772f80acf78e",
   "metadata": {
    "tags": []
   },
   "outputs": [],
   "source": [
    "#awsProfiles[\"valid\"]"
   ]
  },
  {
   "cell_type": "code",
   "execution_count": 8,
   "id": "66817deb-4b93-4c26-b90a-6b9997697888",
   "metadata": {
    "tags": []
   },
   "outputs": [],
   "source": [
    "#awsProfiles[\"invalid\"]"
   ]
  },
  {
   "cell_type": "code",
   "execution_count": null,
   "id": "5cc17343-a1c5-44f1-a2d4-86840289f2c2",
   "metadata": {},
   "outputs": [],
   "source": []
  }
 ],
 "metadata": {
  "kernelspec": {
   "display_name": "Python 3 (ipykernel)",
   "language": "python",
   "name": "python3"
  },
  "language_info": {
   "codemirror_mode": {
    "name": "ipython",
    "version": 3
   },
   "file_extension": ".py",
   "mimetype": "text/x-python",
   "name": "python",
   "nbconvert_exporter": "python",
   "pygments_lexer": "ipython3",
   "version": "3.11.5"
  }
 },
 "nbformat": 4,
 "nbformat_minor": 5
}
