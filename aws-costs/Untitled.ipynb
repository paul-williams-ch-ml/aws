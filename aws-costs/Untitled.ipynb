{
 "cells": [
  {
   "cell_type": "code",
   "execution_count": 1,
   "id": "266698e7-8786-4305-931f-c287b3a46ede",
   "metadata": {
    "tags": []
   },
   "outputs": [],
   "source": [
    "import os"
   ]
  },
  {
   "cell_type": "code",
   "execution_count": 2,
   "id": "a8956df8-f4da-4467-8b4c-b80fce67e375",
   "metadata": {
    "tags": []
   },
   "outputs": [],
   "source": [
    "if os.path.isfile('./configuration.py'): import configuration as cfg"
   ]
  },
  {
   "cell_type": "code",
   "execution_count": 3,
   "id": "f9afeda4-4ad1-4034-8abf-8e13f04dc53e",
   "metadata": {
    "tags": []
   },
   "outputs": [
    {
     "data": {
      "text/plain": [
       "'training'"
      ]
     },
     "execution_count": 3,
     "metadata": {},
     "output_type": "execute_result"
    }
   ],
   "source": [
    "cfg.AWS_PROFILE_NAME"
   ]
  },
  {
   "cell_type": "code",
   "execution_count": 4,
   "id": "754a5f41-6bbf-4f83-b569-66c3a7346b85",
   "metadata": {
    "tags": []
   },
   "outputs": [
    {
     "ename": "AttributeError",
     "evalue": "module 'configuration' has no attribute 'tester'",
     "output_type": "error",
     "traceback": [
      "\u001b[0;31m---------------------------------------------------------------------------\u001b[0m",
      "\u001b[0;31mAttributeError\u001b[0m                            Traceback (most recent call last)",
      "Cell \u001b[0;32mIn[4], line 1\u001b[0m\n\u001b[0;32m----> 1\u001b[0m cfg\u001b[38;5;241m.\u001b[39mtester\n",
      "\u001b[0;31mAttributeError\u001b[0m: module 'configuration' has no attribute 'tester'"
     ]
    }
   ],
   "source": [
    "cfg.tester"
   ]
  },
  {
   "cell_type": "code",
   "execution_count": 32,
   "id": "a891ac49-aaef-471b-9b0f-53540a74ed48",
   "metadata": {
    "tags": []
   },
   "outputs": [
    {
     "data": {
      "text/plain": [
       "['__builtins__',\n",
       " '__cached__',\n",
       " '__doc__',\n",
       " '__file__',\n",
       " '__loader__',\n",
       " '__name__',\n",
       " '__package__',\n",
       " '__spec__',\n",
       " 'test']"
      ]
     },
     "execution_count": 32,
     "metadata": {},
     "output_type": "execute_result"
    }
   ],
   "source": [
    "dir(cfg)"
   ]
  },
  {
   "cell_type": "code",
   "execution_count": null,
   "id": "422a0694-bf42-492a-b75a-208438f6866a",
   "metadata": {},
   "outputs": [],
   "source": []
  },
  {
   "cell_type": "code",
   "execution_count": null,
   "id": "9dc3ef81-5670-4b30-ac23-0c0e3c153a79",
   "metadata": {},
   "outputs": [],
   "source": []
  }
 ],
 "metadata": {
  "kernelspec": {
   "display_name": "Python 3 (ipykernel)",
   "language": "python",
   "name": "python3"
  },
  "language_info": {
   "codemirror_mode": {
    "name": "ipython",
    "version": 3
   },
   "file_extension": ".py",
   "mimetype": "text/x-python",
   "name": "python",
   "nbconvert_exporter": "python",
   "pygments_lexer": "ipython3",
   "version": "3.11.5"
  }
 },
 "nbformat": 4,
 "nbformat_minor": 5
}
