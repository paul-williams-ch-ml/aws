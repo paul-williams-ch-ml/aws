{
 "cells": [
  {
   "cell_type": "code",
   "execution_count": null,
   "id": "945c5895-46c2-40b6-8e26-470e51c005d0",
   "metadata": {},
   "outputs": [],
   "source": []
  },
  {
   "cell_type": "code",
   "execution_count": null,
   "id": "fb116fef-f833-40ce-b033-fb72a561efa1",
   "metadata": {},
   "outputs": [],
   "source": []
  },
  {
   "cell_type": "code",
   "execution_count": 10,
   "id": "fca72155-bef5-4113-8c27-41a85ad7750f",
   "metadata": {
    "tags": []
   },
   "outputs": [],
   "source": [
    "from benedict import benedict "
   ]
  },
  {
   "cell_type": "code",
   "execution_count": null,
   "id": "a663d0f2-f72f-464c-ac79-1c2200266cba",
   "metadata": {},
   "outputs": [],
   "source": []
  },
  {
   "cell_type": "code",
   "execution_count": 11,
   "id": "2ed12f99-9ec2-4ea5-9e30-61ce824d30a6",
   "metadata": {
    "tags": []
   },
   "outputs": [],
   "source": [
    "y1 = \"\"\"Resources:\n",
    "  HelloBucket:\n",
    "    Type: 'AWS::S3::Bucket'\n",
    "    Properties:\n",
    "      AccessControl: PublicRead\n",
    "      WebsiteConfiguration:\n",
    "        IndexDocument: index.html\n",
    "        ErrorDocument: error.html\n",
    "\"\"\""
   ]
  },
  {
   "cell_type": "code",
   "execution_count": null,
   "id": "fe70343e-53c0-4a98-b5ac-343ea483ecef",
   "metadata": {},
   "outputs": [],
   "source": []
  },
  {
   "cell_type": "code",
   "execution_count": null,
   "id": "c6588513-2717-438c-8cf1-3ae29c016463",
   "metadata": {},
   "outputs": [],
   "source": []
  },
  {
   "cell_type": "code",
   "execution_count": null,
   "id": "5e3d6673-a79a-4045-9c4a-aa9ea9c27345",
   "metadata": {},
   "outputs": [],
   "source": []
  },
  {
   "cell_type": "code",
   "execution_count": 22,
   "id": "266ebc56-5eb6-4c7c-b0eb-5fab2cb7d0b4",
   "metadata": {
    "tags": []
   },
   "outputs": [],
   "source": [
    "a = benedict"
   ]
  },
  {
   "cell_type": "code",
   "execution_count": 23,
   "id": "0d2c8be0-f2d9-4604-add6-6fe866a177b7",
   "metadata": {
    "tags": []
   },
   "outputs": [],
   "source": [
    "b = a.from_yaml(y1)"
   ]
  },
  {
   "cell_type": "code",
   "execution_count": 19,
   "id": "7057b429-8406-407d-afaa-cb80c86ee0c1",
   "metadata": {
    "tags": []
   },
   "outputs": [
    {
     "name": "stdout",
     "output_type": "stream",
     "text": [
      "{\"Resources\": {\"HelloBucket\": {\"Type\": \"AWS::S3::Bucket\", \"Properties\": {\"AccessControl\": \"PublicRead\", \"WebsiteConfiguration\": {\"IndexDocument\": \"index.html\", \"ErrorDocument\": \"error.html\"}}}}}\n"
     ]
    }
   ],
   "source": [
    "print(b.to_json())"
   ]
  },
  {
   "cell_type": "code",
   "execution_count": 24,
   "id": "57399638-b70d-4a4c-b3b9-0e81c2577cfc",
   "metadata": {
    "tags": []
   },
   "outputs": [
    {
     "ename": "NotImplementedError",
     "evalue": "",
     "output_type": "error",
     "traceback": [
      "\u001b[0;31m---------------------------------------------------------------------------\u001b[0m",
      "\u001b[0;31mNotImplementedError\u001b[0m                       Traceback (most recent call last)",
      "Cell \u001b[0;32mIn[24], line 1\u001b[0m\n\u001b[0;32m----> 1\u001b[0m b\u001b[38;5;241m.\u001b[39mto_html()\n",
      "File \u001b[0;32m~/anaconda3/envs/youtuber/lib/python3.11/site-packages/benedict/dicts/io/io_dict.py:224\u001b[0m, in \u001b[0;36mIODict.to_html\u001b[0;34m(self, **kwargs)\u001b[0m\n\u001b[1;32m    223\u001b[0m \u001b[38;5;28;01mdef\u001b[39;00m \u001b[38;5;21mto_html\u001b[39m(\u001b[38;5;28mself\u001b[39m, \u001b[38;5;241m*\u001b[39m\u001b[38;5;241m*\u001b[39mkwargs):\n\u001b[0;32m--> 224\u001b[0m     \u001b[38;5;28;01mraise\u001b[39;00m \u001b[38;5;167;01mNotImplementedError\u001b[39;00m\n",
      "\u001b[0;31mNotImplementedError\u001b[0m: "
     ]
    }
   ],
   "source": []
  },
  {
   "cell_type": "code",
   "execution_count": 31,
   "id": "5acaff0e-c268-45e0-a63c-17dc455ffa79",
   "metadata": {
    "tags": []
   },
   "outputs": [],
   "source": [
    "c = benedict('{\"a\": 1, \"b\": 2, \"c\": 3, \"x\": 7, \"y\": 8, \"z\": 9}')"
   ]
  },
  {
   "cell_type": "code",
   "execution_count": null,
   "id": "f14df27f-5803-4410-8aac-5aa5480d79cd",
   "metadata": {
    "tags": []
   },
   "outputs": [],
   "source": []
  },
  {
   "cell_type": "code",
   "execution_count": 34,
   "id": "1f8684ff-0cd3-4597-bca9-b5498a2054ce",
   "metadata": {
    "tags": []
   },
   "outputs": [
    {
     "ename": "ValueError",
     "evalue": "Traceback (most recent call last):\n  File \"/home/user/anaconda3/envs/youtuber/lib/python3.11/site-packages/urllib3/connection.py\", line 174, in _new_conn\n    conn = connection.create_connection(\n           ^^^^^^^^^^^^^^^^^^^^^^^^^^^^^\n  File \"/home/user/anaconda3/envs/youtuber/lib/python3.11/site-packages/urllib3/util/connection.py\", line 95, in create_connection\n    raise err\n  File \"/home/user/anaconda3/envs/youtuber/lib/python3.11/site-packages/urllib3/util/connection.py\", line 85, in create_connection\n    sock.connect(sa)\nConnectionRefusedError: [Errno 111] Connection refused\n\nDuring handling of the above exception, another exception occurred:\n\nTraceback (most recent call last):\n  File \"/home/user/anaconda3/envs/youtuber/lib/python3.11/site-packages/urllib3/connectionpool.py\", line 714, in urlopen\n    httplib_response = self._make_request(\n                       ^^^^^^^^^^^^^^^^^^^\n  File \"/home/user/anaconda3/envs/youtuber/lib/python3.11/site-packages/urllib3/connectionpool.py\", line 403, in _make_request\n    self._validate_conn(conn)\n  File \"/home/user/anaconda3/envs/youtuber/lib/python3.11/site-packages/urllib3/connectionpool.py\", line 1053, in _validate_conn\n    conn.connect()\n  File \"/home/user/anaconda3/envs/youtuber/lib/python3.11/site-packages/urllib3/connection.py\", line 363, in connect\n    self.sock = conn = self._new_conn()\n                       ^^^^^^^^^^^^^^^^\n  File \"/home/user/anaconda3/envs/youtuber/lib/python3.11/site-packages/urllib3/connection.py\", line 186, in _new_conn\n    raise NewConnectionError(\nurllib3.exceptions.NewConnectionError: <urllib3.connection.HTTPSConnection object at 0x7fea1b9296d0>: Failed to establish a new connection: [Errno 111] Connection refused\n\nDuring handling of the above exception, another exception occurred:\n\nTraceback (most recent call last):\n  File \"/home/user/anaconda3/envs/youtuber/lib/python3.11/site-packages/requests/adapters.py\", line 486, in send\n    resp = conn.urlopen(\n           ^^^^^^^^^^^^^\n  File \"/home/user/anaconda3/envs/youtuber/lib/python3.11/site-packages/urllib3/connectionpool.py\", line 798, in urlopen\n    retries = retries.increment(\n              ^^^^^^^^^^^^^^^^^^\n  File \"/home/user/anaconda3/envs/youtuber/lib/python3.11/site-packages/urllib3/util/retry.py\", line 592, in increment\n    raise MaxRetryError(_pool, url, error or ResponseError(cause))\nurllib3.exceptions.MaxRetryError: HTTPSConnectionPool(host='localhost', port=8000): Max retries exceeded with url: /data.json (Caused by NewConnectionError('<urllib3.connection.HTTPSConnection object at 0x7fea1b9296d0>: Failed to establish a new connection: [Errno 111] Connection refused'))\n\nDuring handling of the above exception, another exception occurred:\n\nTraceback (most recent call last):\n  File \"/home/user/anaconda3/envs/youtuber/lib/python3.11/site-packages/benedict/dicts/io/io_dict.py\", line 37, in _decode\n    data = io_util.decode(s, format, **kwargs)\n           ^^^^^^^^^^^^^^^^^^^^^^^^^^^^^^^^^^^\n  File \"/home/user/anaconda3/envs/youtuber/lib/python3.11/site-packages/benedict/dicts/io/io_util.py\", line 53, in decode\n    content = read_content(s, format, options)\n              ^^^^^^^^^^^^^^^^^^^^^^^^^^^^^^^^\n  File \"/home/user/anaconda3/envs/youtuber/lib/python3.11/site-packages/benedict/dicts/io/io_util.py\", line 122, in read_content\n    return read_content_from_url(s, requests_options, format)\n           ^^^^^^^^^^^^^^^^^^^^^^^^^^^^^^^^^^^^^^^^^^^^^^^^^^\n  File \"/home/user/anaconda3/envs/youtuber/lib/python3.11/site-packages/benedict/dicts/io/io_util.py\", line 160, in read_content_from_url\n    return fsutil.read_file_from_url(url, **requests_options)\n           ^^^^^^^^^^^^^^^^^^^^^^^^^^^^^^^^^^^^^^^^^^^^^^^^^^\n  File \"/home/user/anaconda3/envs/youtuber/lib/python3.11/site-packages/fsutil/__init__.py\", line 996, in read_file_from_url\n    response = requests.get(url, **kwargs)\n               ^^^^^^^^^^^^^^^^^^^^^^^^^^^\n  File \"/home/user/anaconda3/envs/youtuber/lib/python3.11/site-packages/requests/api.py\", line 73, in get\n    return request(\"get\", url, params=params, **kwargs)\n           ^^^^^^^^^^^^^^^^^^^^^^^^^^^^^^^^^^^^^^^^^^^^\n  File \"/home/user/anaconda3/envs/youtuber/lib/python3.11/site-packages/requests/api.py\", line 59, in request\n    return session.request(method=method, url=url, **kwargs)\n           ^^^^^^^^^^^^^^^^^^^^^^^^^^^^^^^^^^^^^^^^^^^^^^^^^\n  File \"/home/user/anaconda3/envs/youtuber/lib/python3.11/site-packages/requests/sessions.py\", line 589, in request\n    resp = self.send(prep, **send_kwargs)\n           ^^^^^^^^^^^^^^^^^^^^^^^^^^^^^^\n  File \"/home/user/anaconda3/envs/youtuber/lib/python3.11/site-packages/requests/sessions.py\", line 703, in send\n    r = adapter.send(request, **kwargs)\n        ^^^^^^^^^^^^^^^^^^^^^^^^^^^^^^^\n  File \"/home/user/anaconda3/envs/youtuber/lib/python3.11/site-packages/requests/adapters.py\", line 519, in send\n    raise ConnectionError(e, request=request)\nrequests.exceptions.ConnectionError: HTTPSConnectionPool(host='localhost', port=8000): Max retries exceeded with url: /data.json (Caused by NewConnectionError('<urllib3.connection.HTTPSConnection object at 0x7fea1b9296d0>: Failed to establish a new connection: [Errno 111] Connection refused'))\n\nUnexpected error / Invalid data or url or filepath argument: https://localhost:8000/data.json\nHTTPSConnectionPool(host='localhost', port=8000): Max retries exceeded with url: /data.json (Caused by NewConnectionError('<urllib3.connection.HTTPSConnection object at 0x7fea1b9296d0>: Failed to establish a new connection: [Errno 111] Connection refused'))",
     "output_type": "error",
     "traceback": [
      "\u001b[0;31m---------------------------------------------------------------------------\u001b[0m",
      "\u001b[0;31mValueError\u001b[0m                                Traceback (most recent call last)",
      "Cell \u001b[0;32mIn[34], line 1\u001b[0m\n\u001b[0;32m----> 1\u001b[0m d \u001b[38;5;241m=\u001b[39m benedict(\u001b[38;5;124m\"\u001b[39m\u001b[38;5;124mhttps://localhost:8000/data.json\u001b[39m\u001b[38;5;124m\"\u001b[39m, sources\u001b[38;5;241m=\u001b[39m[\u001b[38;5;124m\"\u001b[39m\u001b[38;5;124murl\u001b[39m\u001b[38;5;124m\"\u001b[39m])\n",
      "File \u001b[0;32m~/anaconda3/envs/youtuber/lib/python3.11/site-packages/benedict/dicts/__init__.py:54\u001b[0m, in \u001b[0;36mbenedict.__init__\u001b[0;34m(self, *args, **kwargs)\u001b[0m\n\u001b[1;32m     52\u001b[0m     \u001b[38;5;28msuper\u001b[39m()\u001b[38;5;241m.\u001b[39m\u001b[38;5;21m__init__\u001b[39m(obj\u001b[38;5;241m.\u001b[39mdict(), \u001b[38;5;241m*\u001b[39m\u001b[38;5;241m*\u001b[39mkwargs)\n\u001b[1;32m     53\u001b[0m     \u001b[38;5;28;01mreturn\u001b[39;00m\n\u001b[0;32m---> 54\u001b[0m \u001b[38;5;28msuper\u001b[39m()\u001b[38;5;241m.\u001b[39m\u001b[38;5;21m__init__\u001b[39m(\u001b[38;5;241m*\u001b[39margs, \u001b[38;5;241m*\u001b[39m\u001b[38;5;241m*\u001b[39mkwargs)\n",
      "File \u001b[0;32m~/anaconda3/envs/youtuber/lib/python3.11/site-packages/benedict/dicts/keyattr/keyattr_dict.py:11\u001b[0m, in \u001b[0;36mKeyattrDict.__init__\u001b[0;34m(self, *args, **kwargs)\u001b[0m\n\u001b[1;32m      9\u001b[0m \u001b[38;5;28mself\u001b[39m\u001b[38;5;241m.\u001b[39m_keyattr_enabled \u001b[38;5;241m=\u001b[39m kwargs\u001b[38;5;241m.\u001b[39mpop(\u001b[38;5;124m\"\u001b[39m\u001b[38;5;124mkeyattr_enabled\u001b[39m\u001b[38;5;124m\"\u001b[39m, \u001b[38;5;28;01mTrue\u001b[39;00m)\n\u001b[1;32m     10\u001b[0m \u001b[38;5;28mself\u001b[39m\u001b[38;5;241m.\u001b[39m_keyattr_dynamic \u001b[38;5;241m=\u001b[39m kwargs\u001b[38;5;241m.\u001b[39mpop(\u001b[38;5;124m\"\u001b[39m\u001b[38;5;124mkeyattr_dynamic\u001b[39m\u001b[38;5;124m\"\u001b[39m, \u001b[38;5;28;01mFalse\u001b[39;00m)\n\u001b[0;32m---> 11\u001b[0m \u001b[38;5;28msuper\u001b[39m()\u001b[38;5;241m.\u001b[39m\u001b[38;5;21m__init__\u001b[39m(\u001b[38;5;241m*\u001b[39margs, \u001b[38;5;241m*\u001b[39m\u001b[38;5;241m*\u001b[39mkwargs)\n",
      "File \u001b[0;32m~/anaconda3/envs/youtuber/lib/python3.11/site-packages/benedict/dicts/keypath/keypath_dict.py:11\u001b[0m, in \u001b[0;36mKeypathDict.__init__\u001b[0;34m(self, *args, **kwargs)\u001b[0m\n\u001b[1;32m      9\u001b[0m \u001b[38;5;28mself\u001b[39m\u001b[38;5;241m.\u001b[39m_keypath_separator \u001b[38;5;241m=\u001b[39m kwargs\u001b[38;5;241m.\u001b[39mpop(\u001b[38;5;124m\"\u001b[39m\u001b[38;5;124mkeypath_separator\u001b[39m\u001b[38;5;124m\"\u001b[39m, \u001b[38;5;124m\"\u001b[39m\u001b[38;5;124m.\u001b[39m\u001b[38;5;124m\"\u001b[39m)\n\u001b[1;32m     10\u001b[0m check_keys \u001b[38;5;241m=\u001b[39m kwargs\u001b[38;5;241m.\u001b[39mpop(\u001b[38;5;124m\"\u001b[39m\u001b[38;5;124mcheck_keys\u001b[39m\u001b[38;5;124m\"\u001b[39m, \u001b[38;5;28;01mTrue\u001b[39;00m)\n\u001b[0;32m---> 11\u001b[0m \u001b[38;5;28msuper\u001b[39m()\u001b[38;5;241m.\u001b[39m\u001b[38;5;21m__init__\u001b[39m(\u001b[38;5;241m*\u001b[39margs, \u001b[38;5;241m*\u001b[39m\u001b[38;5;241m*\u001b[39mkwargs)\n\u001b[1;32m     12\u001b[0m \u001b[38;5;28;01mif\u001b[39;00m check_keys:\n\u001b[1;32m     13\u001b[0m     keypath_util\u001b[38;5;241m.\u001b[39mcheck_keys(\u001b[38;5;28mself\u001b[39m, \u001b[38;5;28mself\u001b[39m\u001b[38;5;241m.\u001b[39m_keypath_separator)\n",
      "File \u001b[0;32m~/anaconda3/envs/youtuber/lib/python3.11/site-packages/benedict/dicts/keylist/keylist_dict.py:8\u001b[0m, in \u001b[0;36mKeylistDict.__init__\u001b[0;34m(self, *args, **kwargs)\u001b[0m\n\u001b[1;32m      7\u001b[0m \u001b[38;5;28;01mdef\u001b[39;00m \u001b[38;5;21m__init__\u001b[39m(\u001b[38;5;28mself\u001b[39m, \u001b[38;5;241m*\u001b[39margs, \u001b[38;5;241m*\u001b[39m\u001b[38;5;241m*\u001b[39mkwargs):\n\u001b[0;32m----> 8\u001b[0m     \u001b[38;5;28msuper\u001b[39m()\u001b[38;5;241m.\u001b[39m\u001b[38;5;21m__init__\u001b[39m(\u001b[38;5;241m*\u001b[39margs, \u001b[38;5;241m*\u001b[39m\u001b[38;5;241m*\u001b[39mkwargs)\n",
      "File \u001b[0;32m~/anaconda3/envs/youtuber/lib/python3.11/site-packages/benedict/dicts/io/io_dict.py:20\u001b[0m, in \u001b[0;36mIODict.__init__\u001b[0;34m(self, *args, **kwargs)\u001b[0m\n\u001b[1;32m     18\u001b[0m arg \u001b[38;5;241m=\u001b[39m args[\u001b[38;5;241m0\u001b[39m]\n\u001b[1;32m     19\u001b[0m \u001b[38;5;28;01mif\u001b[39;00m type_util\u001b[38;5;241m.\u001b[39mis_string(arg) \u001b[38;5;129;01mor\u001b[39;00m type_util\u001b[38;5;241m.\u001b[39mis_path(arg):\n\u001b[0;32m---> 20\u001b[0m     d \u001b[38;5;241m=\u001b[39m IODict\u001b[38;5;241m.\u001b[39m_decode_init(arg, \u001b[38;5;241m*\u001b[39m\u001b[38;5;241m*\u001b[39mkwargs)\n\u001b[1;32m     21\u001b[0m     \u001b[38;5;28msuper\u001b[39m()\u001b[38;5;241m.\u001b[39m\u001b[38;5;21m__init__\u001b[39m(d)\n\u001b[1;32m     22\u001b[0m     \u001b[38;5;28;01mreturn\u001b[39;00m\n",
      "File \u001b[0;32m~/anaconda3/envs/youtuber/lib/python3.11/site-packages/benedict/dicts/io/io_dict.py:31\u001b[0m, in \u001b[0;36mIODict._decode_init\u001b[0;34m(s, **kwargs)\u001b[0m\n\u001b[1;32m     29\u001b[0m \u001b[38;5;28mformat\u001b[39m \u001b[38;5;241m=\u001b[39m kwargs\u001b[38;5;241m.\u001b[39mpop(\u001b[38;5;124m\"\u001b[39m\u001b[38;5;124mformat\u001b[39m\u001b[38;5;124m\"\u001b[39m, default_format)\u001b[38;5;241m.\u001b[39mlower()\n\u001b[1;32m     30\u001b[0m \u001b[38;5;66;03m# decode data-string and initialize with dict data.\u001b[39;00m\n\u001b[0;32m---> 31\u001b[0m \u001b[38;5;28;01mreturn\u001b[39;00m IODict\u001b[38;5;241m.\u001b[39m_decode(s, \u001b[38;5;28mformat\u001b[39m, \u001b[38;5;241m*\u001b[39m\u001b[38;5;241m*\u001b[39mkwargs)\n",
      "File \u001b[0;32m~/anaconda3/envs/youtuber/lib/python3.11/site-packages/benedict/dicts/io/io_dict.py:42\u001b[0m, in \u001b[0;36mIODict._decode\u001b[0;34m(s, format, **kwargs)\u001b[0m\n\u001b[1;32m     40\u001b[0m \u001b[38;5;28;01mexcept\u001b[39;00m \u001b[38;5;167;01mException\u001b[39;00m \u001b[38;5;28;01mas\u001b[39;00m error:\n\u001b[1;32m     41\u001b[0m     error_traceback \u001b[38;5;241m=\u001b[39m traceback\u001b[38;5;241m.\u001b[39mformat_exc()\n\u001b[0;32m---> 42\u001b[0m     \u001b[38;5;28;01mraise\u001b[39;00m \u001b[38;5;167;01mValueError\u001b[39;00m(\n\u001b[1;32m     43\u001b[0m         \u001b[38;5;124mf\u001b[39m\u001b[38;5;124m\"\u001b[39m\u001b[38;5;132;01m{\u001b[39;00merror_traceback\u001b[38;5;132;01m}\u001b[39;00m\u001b[38;5;130;01m\\n\u001b[39;00m\u001b[38;5;124m\"\u001b[39m\n\u001b[1;32m     44\u001b[0m         \u001b[38;5;124mf\u001b[39m\u001b[38;5;124m\"\u001b[39m\u001b[38;5;124mUnexpected error / Invalid data or url or filepath argument: \u001b[39m\u001b[38;5;132;01m{\u001b[39;00ms\u001b[38;5;132;01m}\u001b[39;00m\u001b[38;5;130;01m\\n\u001b[39;00m\u001b[38;5;132;01m{\u001b[39;00merror\u001b[38;5;132;01m}\u001b[39;00m\u001b[38;5;124m\"\u001b[39m\n\u001b[1;32m     45\u001b[0m     ) \u001b[38;5;28;01mfrom\u001b[39;00m \u001b[38;5;28;01mNone\u001b[39;00m\n\u001b[1;32m     46\u001b[0m \u001b[38;5;66;03m# if possible return data as dict, otherwise raise exception\u001b[39;00m\n\u001b[1;32m     47\u001b[0m \u001b[38;5;28;01mif\u001b[39;00m type_util\u001b[38;5;241m.\u001b[39mis_dict(data):\n",
      "\u001b[0;31mValueError\u001b[0m: Traceback (most recent call last):\n  File \"/home/user/anaconda3/envs/youtuber/lib/python3.11/site-packages/urllib3/connection.py\", line 174, in _new_conn\n    conn = connection.create_connection(\n           ^^^^^^^^^^^^^^^^^^^^^^^^^^^^^\n  File \"/home/user/anaconda3/envs/youtuber/lib/python3.11/site-packages/urllib3/util/connection.py\", line 95, in create_connection\n    raise err\n  File \"/home/user/anaconda3/envs/youtuber/lib/python3.11/site-packages/urllib3/util/connection.py\", line 85, in create_connection\n    sock.connect(sa)\nConnectionRefusedError: [Errno 111] Connection refused\n\nDuring handling of the above exception, another exception occurred:\n\nTraceback (most recent call last):\n  File \"/home/user/anaconda3/envs/youtuber/lib/python3.11/site-packages/urllib3/connectionpool.py\", line 714, in urlopen\n    httplib_response = self._make_request(\n                       ^^^^^^^^^^^^^^^^^^^\n  File \"/home/user/anaconda3/envs/youtuber/lib/python3.11/site-packages/urllib3/connectionpool.py\", line 403, in _make_request\n    self._validate_conn(conn)\n  File \"/home/user/anaconda3/envs/youtuber/lib/python3.11/site-packages/urllib3/connectionpool.py\", line 1053, in _validate_conn\n    conn.connect()\n  File \"/home/user/anaconda3/envs/youtuber/lib/python3.11/site-packages/urllib3/connection.py\", line 363, in connect\n    self.sock = conn = self._new_conn()\n                       ^^^^^^^^^^^^^^^^\n  File \"/home/user/anaconda3/envs/youtuber/lib/python3.11/site-packages/urllib3/connection.py\", line 186, in _new_conn\n    raise NewConnectionError(\nurllib3.exceptions.NewConnectionError: <urllib3.connection.HTTPSConnection object at 0x7fea1b9296d0>: Failed to establish a new connection: [Errno 111] Connection refused\n\nDuring handling of the above exception, another exception occurred:\n\nTraceback (most recent call last):\n  File \"/home/user/anaconda3/envs/youtuber/lib/python3.11/site-packages/requests/adapters.py\", line 486, in send\n    resp = conn.urlopen(\n           ^^^^^^^^^^^^^\n  File \"/home/user/anaconda3/envs/youtuber/lib/python3.11/site-packages/urllib3/connectionpool.py\", line 798, in urlopen\n    retries = retries.increment(\n              ^^^^^^^^^^^^^^^^^^\n  File \"/home/user/anaconda3/envs/youtuber/lib/python3.11/site-packages/urllib3/util/retry.py\", line 592, in increment\n    raise MaxRetryError(_pool, url, error or ResponseError(cause))\nurllib3.exceptions.MaxRetryError: HTTPSConnectionPool(host='localhost', port=8000): Max retries exceeded with url: /data.json (Caused by NewConnectionError('<urllib3.connection.HTTPSConnection object at 0x7fea1b9296d0>: Failed to establish a new connection: [Errno 111] Connection refused'))\n\nDuring handling of the above exception, another exception occurred:\n\nTraceback (most recent call last):\n  File \"/home/user/anaconda3/envs/youtuber/lib/python3.11/site-packages/benedict/dicts/io/io_dict.py\", line 37, in _decode\n    data = io_util.decode(s, format, **kwargs)\n           ^^^^^^^^^^^^^^^^^^^^^^^^^^^^^^^^^^^\n  File \"/home/user/anaconda3/envs/youtuber/lib/python3.11/site-packages/benedict/dicts/io/io_util.py\", line 53, in decode\n    content = read_content(s, format, options)\n              ^^^^^^^^^^^^^^^^^^^^^^^^^^^^^^^^\n  File \"/home/user/anaconda3/envs/youtuber/lib/python3.11/site-packages/benedict/dicts/io/io_util.py\", line 122, in read_content\n    return read_content_from_url(s, requests_options, format)\n           ^^^^^^^^^^^^^^^^^^^^^^^^^^^^^^^^^^^^^^^^^^^^^^^^^^\n  File \"/home/user/anaconda3/envs/youtuber/lib/python3.11/site-packages/benedict/dicts/io/io_util.py\", line 160, in read_content_from_url\n    return fsutil.read_file_from_url(url, **requests_options)\n           ^^^^^^^^^^^^^^^^^^^^^^^^^^^^^^^^^^^^^^^^^^^^^^^^^^\n  File \"/home/user/anaconda3/envs/youtuber/lib/python3.11/site-packages/fsutil/__init__.py\", line 996, in read_file_from_url\n    response = requests.get(url, **kwargs)\n               ^^^^^^^^^^^^^^^^^^^^^^^^^^^\n  File \"/home/user/anaconda3/envs/youtuber/lib/python3.11/site-packages/requests/api.py\", line 73, in get\n    return request(\"get\", url, params=params, **kwargs)\n           ^^^^^^^^^^^^^^^^^^^^^^^^^^^^^^^^^^^^^^^^^^^^\n  File \"/home/user/anaconda3/envs/youtuber/lib/python3.11/site-packages/requests/api.py\", line 59, in request\n    return session.request(method=method, url=url, **kwargs)\n           ^^^^^^^^^^^^^^^^^^^^^^^^^^^^^^^^^^^^^^^^^^^^^^^^^\n  File \"/home/user/anaconda3/envs/youtuber/lib/python3.11/site-packages/requests/sessions.py\", line 589, in request\n    resp = self.send(prep, **send_kwargs)\n           ^^^^^^^^^^^^^^^^^^^^^^^^^^^^^^\n  File \"/home/user/anaconda3/envs/youtuber/lib/python3.11/site-packages/requests/sessions.py\", line 703, in send\n    r = adapter.send(request, **kwargs)\n        ^^^^^^^^^^^^^^^^^^^^^^^^^^^^^^^\n  File \"/home/user/anaconda3/envs/youtuber/lib/python3.11/site-packages/requests/adapters.py\", line 519, in send\n    raise ConnectionError(e, request=request)\nrequests.exceptions.ConnectionError: HTTPSConnectionPool(host='localhost', port=8000): Max retries exceeded with url: /data.json (Caused by NewConnectionError('<urllib3.connection.HTTPSConnection object at 0x7fea1b9296d0>: Failed to establish a new connection: [Errno 111] Connection refused'))\n\nUnexpected error / Invalid data or url or filepath argument: https://localhost:8000/data.json\nHTTPSConnectionPool(host='localhost', port=8000): Max retries exceeded with url: /data.json (Caused by NewConnectionError('<urllib3.connection.HTTPSConnection object at 0x7fea1b9296d0>: Failed to establish a new connection: [Errno 111] Connection refused'))"
     ]
    }
   ],
   "source": [
    "d = benedict(\"https://localhost:8000/data.json\", sources=[\"url\"])"
   ]
  },
  {
   "cell_type": "code",
   "execution_count": null,
   "id": "5cff459b-15c5-4008-9dc0-1017d69b0aaa",
   "metadata": {},
   "outputs": [],
   "source": []
  },
  {
   "cell_type": "code",
   "execution_count": null,
   "id": "298e60d4-746b-477e-81f9-a770f4869680",
   "metadata": {},
   "outputs": [],
   "source": []
  },
  {
   "cell_type": "code",
   "execution_count": null,
   "id": "419bc716-459a-4e33-ab19-7c877fff2b15",
   "metadata": {},
   "outputs": [],
   "source": []
  },
  {
   "cell_type": "code",
   "execution_count": null,
   "id": "bb423151-a894-4ba7-909b-9d284ac47130",
   "metadata": {},
   "outputs": [],
   "source": []
  },
  {
   "cell_type": "code",
   "execution_count": null,
   "id": "e8237bcc-e517-4784-9fdd-dc69eb451a18",
   "metadata": {},
   "outputs": [],
   "source": []
  }
 ],
 "metadata": {
  "kernelspec": {
   "display_name": "Python 3 (ipykernel)",
   "language": "python",
   "name": "python3"
  },
  "language_info": {
   "codemirror_mode": {
    "name": "ipython",
    "version": 3
   },
   "file_extension": ".py",
   "mimetype": "text/x-python",
   "name": "python",
   "nbconvert_exporter": "python",
   "pygments_lexer": "ipython3",
   "version": "3.11.5"
  }
 },
 "nbformat": 4,
 "nbformat_minor": 5
}
